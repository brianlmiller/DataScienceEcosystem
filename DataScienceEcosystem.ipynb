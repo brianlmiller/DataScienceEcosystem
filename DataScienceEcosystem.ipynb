{
 "cells": [
  {
   "cell_type": "markdown",
   "id": "f8483725-1362-40b2-a533-57a414bc8f49",
   "metadata": {},
   "source": [
    "# Data Science Ecosystem"
   ]
  },
  {
   "cell_type": "markdown",
   "id": "70f84a7c-3887-4822-b744-9ea0e277bae7",
   "metadata": {},
   "source": [
    "## Author\n",
    "Brian Miller"
   ]
  },
  {
   "cell_type": "markdown",
   "id": "ea7dd9ae-8292-4784-8cab-f6e3b49fd932",
   "metadata": {},
   "source": [
    "In this notebook, Data Science Tools and Ecosystem are summarized."
   ]
  },
  {
   "cell_type": "markdown",
   "id": "662970d9-7187-4300-89e9-3b5a2fa63b47",
   "metadata": {},
   "source": [
    "**Objectives:**\n",
    "+ List popular Data Science languages\n",
    "+ List popular Data Science tools\n",
    "+ Demonstrate use of the Jupyter Notebook"
   ]
  },
  {
   "cell_type": "markdown",
   "id": "52592d73-8be2-41f6-9a65-bec770464f28",
   "metadata": {},
   "source": [
    "Some of the popular languages that Data Scientists use are:"
   ]
  },
  {
   "cell_type": "markdown",
   "id": "f55b28c5-9115-43bb-ab21-8daa95469bdb",
   "metadata": {},
   "source": [
    "1. \"Python\"\n",
    "2. \"R\"\n",
    "3. \"Scala\""
   ]
  },
  {
   "cell_type": "markdown",
   "id": "5a8c26e2-7d9d-4c9c-a1b6-3af8354886a1",
   "metadata": {},
   "source": [
    "Some of the commonly used libraries used by Data Scientists include:\n",
    "1. ggplot\n",
    "2. caret\n",
    "3. matplotlib"
   ]
  },
  {
   "cell_type": "markdown",
   "id": "f2980f9f-ab24-4ced-a064-b15bbee3a3f0",
   "metadata": {},
   "source": [
    "|Data Science Tools|\n",
    "|-|\n",
    "|Anaconda|\n",
    "|JupyterLabs|\n",
    "|RStudio|"
   ]
  },
  {
   "cell_type": "markdown",
   "id": "433843a0-a1b2-4302-a27c-6ddeb130f5eb",
   "metadata": {},
   "source": [
    "### Below are a few examples of evaluating arithmetic expressions in Python"
   ]
  },
  {
   "cell_type": "code",
   "execution_count": 5,
   "id": "f488ff36-9b4e-493a-8c12-20d5415fcf15",
   "metadata": {},
   "outputs": [
    {
     "data": {
      "text/plain": [
       "17"
      ]
     },
     "execution_count": 5,
     "metadata": {},
     "output_type": "execute_result"
    }
   ],
   "source": [
    "# This a simple arithmetic expression to mutiply then add integers\n",
    "(3*4)+5"
   ]
  },
  {
   "cell_type": "code",
   "execution_count": 6,
   "id": "e36aefa6-e89f-4a43-8423-7940ad100d78",
   "metadata": {},
   "outputs": [
    {
     "data": {
      "text/plain": [
       "3.3333333333333335"
      ]
     },
     "execution_count": 6,
     "metadata": {},
     "output_type": "execute_result"
    }
   ],
   "source": [
    "# This will convert 200 minutes to hours by diving by 60\n",
    "200/60"
   ]
  },
  {
   "cell_type": "code",
   "execution_count": null,
   "id": "11cd2e0e-2a42-4740-b0b7-81f6e2430248",
   "metadata": {},
   "outputs": [],
   "source": []
  }
 ],
 "metadata": {
  "kernelspec": {
   "display_name": "Python 3 (ipykernel)",
   "language": "python",
   "name": "python3"
  },
  "language_info": {
   "codemirror_mode": {
    "name": "ipython",
    "version": 3
   },
   "file_extension": ".py",
   "mimetype": "text/x-python",
   "name": "python",
   "nbconvert_exporter": "python",
   "pygments_lexer": "ipython3",
   "version": "3.12.7"
  }
 },
 "nbformat": 4,
 "nbformat_minor": 5
}
